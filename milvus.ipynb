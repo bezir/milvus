{
 "cells": [
  {
   "cell_type": "markdown",
   "metadata": {},
   "source": [
    "# PART-3 Create Milvus Database"
   ]
  },
  {
   "cell_type": "code",
   "execution_count": null,
   "metadata": {},
   "outputs": [],
   "source": [
    "import pandas as pd\n",
    "from tqdm import tqdm\n",
    "\n",
    "from pymilvus import (\n",
    "    connections,\n",
    "    utility,\n",
    "    FieldSchema, CollectionSchema, DataType,\n",
    "    Collection,\n",
    ")\n",
    "\n",
    "from dotenv import load_dotenv\n",
    "load_dotenv()"
   ]
  },
  {
   "cell_type": "code",
   "execution_count": null,
   "metadata": {},
   "outputs": [],
   "source": [
    "df = pd.read_csv(os.getenv(\"EMBEDDINGS_PATH\"))"
   ]
  },
  {
   "cell_type": "code",
   "execution_count": null,
   "metadata": {},
   "outputs": [],
   "source": [
    "num_features = len(eval(df['embeddings'][0]))"
   ]
  },
  {
   "cell_type": "code",
   "execution_count": null,
   "metadata": {},
   "outputs": [],
   "source": [
    "connections.connect(\"default\", host=\"localhost\", port=\"19530\")"
   ]
  },
  {
   "cell_type": "code",
   "execution_count": null,
   "metadata": {},
   "outputs": [],
   "source": [
    "fields = [\n",
    "    FieldSchema(name=\"pk\", dtype=DataType.INT64, is_primary=True, auto_id=False),\n",
    "    FieldSchema(name=\"job_number\", dtype=DataType.VARCHAR, max_length=128),\n",
    "    FieldSchema(name=\"embeddings\", dtype=DataType.FLOAT_VECTOR, dim=num_features)\n",
    "]"
   ]
  },
  {
   "cell_type": "code",
   "execution_count": null,
   "metadata": {},
   "outputs": [],
   "source": [
    "schema = CollectionSchema(fields, \"Job Description Schema\")\n",
    "job_collection = Collection(\"jobs\", schema)"
   ]
  },
  {
   "cell_type": "code",
   "execution_count": null,
   "metadata": {},
   "outputs": [],
   "source": [
    "features_2d_list = df.loc[:100][\"embeddings\"].apply(eval).tolist()\n",
    "job_number_list = df.loc[:100][\"Job Id\"].tolist()\n",
    "pk_list = list(df.loc[:100].index)"
   ]
  },
  {
   "cell_type": "code",
   "execution_count": null,
   "metadata": {},
   "outputs": [],
   "source": [
    "batch_size = 100\n",
    "for i in range(0, len(features_2d_list), batch_size):\n",
    "    batch_pk = pk_list[i:i+batch_size]\n",
    "    batch_job_ids = job_number_list[i:i+batch_size]\n",
    "    batch_features = features_2d_list[i:i+batch_size]\n",
    "    print(job_collection.insert([batch_pk, batch_job_ids, batch_features]))"
   ]
  },
  {
   "cell_type": "markdown",
   "metadata": {},
   "source": [
    "# Search for parameters"
   ]
  },
  {
   "cell_type": "code",
   "execution_count": null,
   "metadata": {},
   "outputs": [],
   "source": [
    "index_params = {\n",
    "    \"metric_type\":\"L2\",\n",
    "    \"index_type\":\"IVF_FLAT\",\n",
    "    \"params\":{\"nlist\":32}\n",
    "}"
   ]
  },
  {
   "cell_type": "code",
   "execution_count": null,
   "metadata": {},
   "outputs": [],
   "source": [
    "job_collection.create_index(\n",
    "    field_name=\"embeddings\",\n",
    "    index_params=index_params\n",
    ")"
   ]
  },
  {
   "cell_type": "code",
   "execution_count": null,
   "metadata": {},
   "outputs": [],
   "source": [
    "job_collection.load()"
   ]
  },
  {
   "cell_type": "code",
   "execution_count": null,
   "metadata": {},
   "outputs": [],
   "source": [
    "search_params = {\"metric_type\": \"L2\", \"params\": {\"nprobe\": 16}}"
   ]
  },
  {
   "cell_type": "code",
   "execution_count": null,
   "metadata": {},
   "outputs": [],
   "source": [
    "duplicates = []\n",
    "frontier = set()\n",
    "for idx, query_vector in tqdm(enumerate(features_2d_list[:100]), total=len(features_2d_list[:100])):\n",
    "    if idx in frontier:\n",
    "        continue\n",
    "    frontier.add(idx)\n",
    "    group = [idx]\n",
    "    results = job_collection.search(data=[query_vector], anns_field=\"embeddings\", param=search_params, limit=10)\n",
    "    for result in results[0]:\n",
    "        if result.distance < 0.2:\n",
    "            if result.id not in frontier:\n",
    "                frontier.add(result.id)\n",
    "                group.append(result.id)\n",
    "    duplicates.append(group)\n",
    "\n",
    "for group in duplicates:\n",
    "    if len(group) > 1:\n",
    "        print(group)\n"
   ]
  },
  {
   "cell_type": "code",
   "execution_count": null,
   "metadata": {},
   "outputs": [],
   "source": [
    "for group in duplicates:\n",
    "    if len(group) > 1:\n",
    "        for id in group:\n",
    "            print(df.loc[id][\"Job Description\"][:200])\n",
    "        print(\"*\"*30)"
   ]
  }
 ],
 "metadata": {
  "kernelspec": {
   "display_name": "Python 3.9.13 ('base')",
   "language": "python",
   "name": "python3"
  },
  "language_info": {
   "codemirror_mode": {
    "name": "ipython",
    "version": 3
   },
   "file_extension": ".py",
   "mimetype": "text/x-python",
   "name": "python",
   "nbconvert_exporter": "python",
   "pygments_lexer": "ipython3",
   "version": "3.9.13"
  },
  "orig_nbformat": 4,
  "vscode": {
   "interpreter": {
    "hash": "dc03f786a0efdcdbaa9acffb8cb01a67ce344d2bd369cdb9685d222d4f341060"
   }
  }
 },
 "nbformat": 4,
 "nbformat_minor": 2
}
